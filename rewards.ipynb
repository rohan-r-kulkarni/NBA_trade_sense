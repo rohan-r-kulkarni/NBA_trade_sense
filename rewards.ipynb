{
 "cells": [
  {
   "cell_type": "code",
   "execution_count": 195,
   "metadata": {},
   "outputs": [],
   "source": [
    "import numpy as np\n",
    "import pandas as pd\n",
    "from collections import defaultdict\n",
    "from matplotlib import pyplot as plt\n",
    "from itertools import permutations"
   ]
  },
  {
   "cell_type": "code",
   "execution_count": 196,
   "metadata": {},
   "outputs": [],
   "source": [
    "import warnings\n",
    "warnings.filterwarnings(\"ignore\")"
   ]
  },
  {
   "cell_type": "code",
   "execution_count": 197,
   "metadata": {},
   "outputs": [],
   "source": [
    "# the goal is to now build the reward function for each state-action mapping\n",
    "# two actiuons: trade or not trade\n",
    "# if the action is to not trade, the reward is simply the average metric you observe (e.g. the performance of the player for a certain tenure + tier)\n",
    "# if the action is to trade, the reward is fixed: the average performance of the player after the trade"
   ]
  },
  {
   "cell_type": "code",
   "execution_count": 198,
   "metadata": {},
   "outputs": [],
   "source": [
    "SAMPLE = False\n",
    "if SAMPLE:\n",
    "    # generate the filenames for basketball positions\n",
    "    filenames = [\"data/sample_aggregate/C_sample_aggregate.csv\", \n",
    "                 \"data/sample_aggregate/PF_sample_aggregate.csv\", \n",
    "                 \"data/sample_aggregate/PG_sample_aggregate.csv\",\n",
    "                 \"data/sample_aggregate/SF_sample_aggregate.csv\",\n",
    "                 \"data/sample_aggregate/SG_sample_aggregate.csv\"]\n",
    "else:\n",
    "    filenames = [\"data/aggregate/C_aggregate.csv\",\n",
    "                 \"data/aggregate/PF_aggregate.csv\",\n",
    "                 \"data/aggregate/PG_aggregate.csv\",\n",
    "                 \"data/aggregate/SF_aggregate.csv\",\n",
    "                 \"data/aggregate/SG_aggregate.csv\"]"
   ]
  },
  {
   "cell_type": "code",
   "execution_count": 199,
   "metadata": {},
   "outputs": [],
   "source": [
    "positions = [\"C\", \"PF\", \"PG\", \"SF\", \"SG\"]\n",
    "position_dfs = defaultdict(pd.DataFrame)\n",
    "for i, filename in enumerate(filenames):\n",
    "    position_dfs[positions[i]] = pd.read_csv(filename, index_col=0)"
   ]
  },
  {
   "cell_type": "code",
   "execution_count": 200,
   "metadata": {},
   "outputs": [
    {
     "data": {
      "text/html": [
       "<div>\n",
       "<style scoped>\n",
       "    .dataframe tbody tr th:only-of-type {\n",
       "        vertical-align: middle;\n",
       "    }\n",
       "\n",
       "    .dataframe tbody tr th {\n",
       "        vertical-align: top;\n",
       "    }\n",
       "\n",
       "    .dataframe thead th {\n",
       "        text-align: right;\n",
       "    }\n",
       "</style>\n",
       "<table border=\"1\" class=\"dataframe\">\n",
       "  <thead>\n",
       "    <tr style=\"text-align: right;\">\n",
       "      <th></th>\n",
       "      <th>PLAYER_NAME</th>\n",
       "      <th>PLAYER_ID</th>\n",
       "      <th>TEAM_NAME</th>\n",
       "      <th>TEAM_ABBREVIATION</th>\n",
       "      <th>GAME_DATE</th>\n",
       "      <th>MATCHUP</th>\n",
       "      <th>METRIC</th>\n",
       "      <th>TIER</th>\n",
       "    </tr>\n",
       "  </thead>\n",
       "  <tbody>\n",
       "    <tr>\n",
       "      <th>0</th>\n",
       "      <td>Al Horford</td>\n",
       "      <td>201143</td>\n",
       "      <td>Atlanta Hawks</td>\n",
       "      <td>ATL</td>\n",
       "      <td>2013-10-30T00:00:00</td>\n",
       "      <td>ATL @ DAL</td>\n",
       "      <td>1.636125</td>\n",
       "      <td>C</td>\n",
       "    </tr>\n",
       "    <tr>\n",
       "      <th>1</th>\n",
       "      <td>Al Horford</td>\n",
       "      <td>201143</td>\n",
       "      <td>Atlanta Hawks</td>\n",
       "      <td>ATL</td>\n",
       "      <td>2013-11-01T00:00:00</td>\n",
       "      <td>ATL vs. TOR</td>\n",
       "      <td>2.023265</td>\n",
       "      <td>B</td>\n",
       "    </tr>\n",
       "    <tr>\n",
       "      <th>2</th>\n",
       "      <td>Al Horford</td>\n",
       "      <td>201143</td>\n",
       "      <td>Atlanta Hawks</td>\n",
       "      <td>ATL</td>\n",
       "      <td>2013-11-03T00:00:00</td>\n",
       "      <td>ATL @ LAL</td>\n",
       "      <td>1.601184</td>\n",
       "      <td>C</td>\n",
       "    </tr>\n",
       "    <tr>\n",
       "      <th>3</th>\n",
       "      <td>Al Horford</td>\n",
       "      <td>201143</td>\n",
       "      <td>Atlanta Hawks</td>\n",
       "      <td>ATL</td>\n",
       "      <td>2013-11-05T00:00:00</td>\n",
       "      <td>ATL @ SAC</td>\n",
       "      <td>3.181728</td>\n",
       "      <td>A</td>\n",
       "    </tr>\n",
       "    <tr>\n",
       "      <th>4</th>\n",
       "      <td>Al Horford</td>\n",
       "      <td>201143</td>\n",
       "      <td>Atlanta Hawks</td>\n",
       "      <td>ATL</td>\n",
       "      <td>2013-11-07T00:00:00</td>\n",
       "      <td>ATL @ DEN</td>\n",
       "      <td>2.387248</td>\n",
       "      <td>A</td>\n",
       "    </tr>\n",
       "  </tbody>\n",
       "</table>\n",
       "</div>"
      ],
      "text/plain": [
       "  PLAYER_NAME  PLAYER_ID      TEAM_NAME TEAM_ABBREVIATION  \\\n",
       "0  Al Horford     201143  Atlanta Hawks               ATL   \n",
       "1  Al Horford     201143  Atlanta Hawks               ATL   \n",
       "2  Al Horford     201143  Atlanta Hawks               ATL   \n",
       "3  Al Horford     201143  Atlanta Hawks               ATL   \n",
       "4  Al Horford     201143  Atlanta Hawks               ATL   \n",
       "\n",
       "             GAME_DATE      MATCHUP    METRIC TIER  \n",
       "0  2013-10-30T00:00:00    ATL @ DAL  1.636125    C  \n",
       "1  2013-11-01T00:00:00  ATL vs. TOR  2.023265    B  \n",
       "2  2013-11-03T00:00:00    ATL @ LAL  1.601184    C  \n",
       "3  2013-11-05T00:00:00    ATL @ SAC  3.181728    A  \n",
       "4  2013-11-07T00:00:00    ATL @ DEN  2.387248    A  "
      ]
     },
     "execution_count": 200,
     "metadata": {},
     "output_type": "execute_result"
    }
   ],
   "source": [
    "pos_bins = defaultdict(list)\n",
    "for pos in positions:\n",
    "    position_dfs[pos][\"METRIC\"] = position_dfs[pos][\"METRIC\"].astype(float)\n",
    "    position_dfs[pos][\"TIER\"], bins = pd.qcut(position_dfs[pos][\"METRIC\"], 4, labels=[\"D\", \"C\", \"B\", \"A\"], retbins=True)\n",
    "    pos_bins[pos] = bins\n",
    "\n",
    "position_dfs[\"C\"].head()"
   ]
  },
  {
   "cell_type": "code",
   "execution_count": 201,
   "metadata": {},
   "outputs": [],
   "source": [
    "# the trade reward needs to take into account the salary of the player (scaled)\n",
    "# if the action is not to trade, the salary of the player is a negative cost on their metric (and thus accumulates over tenure)\n",
    "# if the action is to trade, the salary does not impact the reward (the player is no longer on the team)"
   ]
  },
  {
   "cell_type": "code",
   "execution_count": 202,
   "metadata": {},
   "outputs": [],
   "source": [
    "def get_player_tiers():\n",
    "    indi_playertiers = []\n",
    "    for pos in positions:\n",
    "        pos_df = position_dfs[pos]\n",
    "        pos_df.loc[:, [\"PLAYER_NAME\", \"TIER\"]].groupby(\"TIER\").count()\n",
    "        # get the max count TIER for each PLAYER_NAME\n",
    "        indi_playertiers.append(pos_df.loc[:, [\"PLAYER_NAME\", \"TIER\"]].groupby(\"PLAYER_NAME\").agg(lambda x: x.value_counts().index[0]))\n",
    "    return pd.concat(indi_playertiers)\n"
   ]
  },
  {
   "cell_type": "code",
   "execution_count": 203,
   "metadata": {},
   "outputs": [],
   "source": [
    "def get_avg_salary_by_pos_tier():\n",
    "    salary = pd.read_csv(\"data/avg_player_salary.csv\", index_col=0)\n",
    "\n",
    "    all_salary_tiers = salary.merge(get_player_tiers().reset_index(), left_on=\"name\", right_on=\"PLAYER_NAME\")\n",
    "    return all_salary_tiers.loc[:, [\"TIER\", \"position\", \"annual_salary\"]].groupby([\"position\", \"TIER\"]).mean()"
   ]
  },
  {
   "cell_type": "code",
   "execution_count": 204,
   "metadata": {},
   "outputs": [],
   "source": [
    "# calculate average metric per tenure-tier combination for every position\n",
    "def generate_notrade_reward(pos):\n",
    "    pos_df = position_dfs[pos]\n",
    "\n",
    "    pos_df['TENURE'] = (pos_df[['PLAYER_NAME', 'TEAM_NAME']] != pos_df[['PLAYER_NAME', 'TEAM_NAME']].shift()).any(axis=1).cumsum() - 1\n",
    "\n",
    "    # Reset 'TENURE' to start from 0 at each team or player change\n",
    "    changes = (pos_df[['PLAYER_NAME', 'TEAM_NAME']] != pos_df[['PLAYER_NAME', 'TEAM_NAME']].shift()).any(axis=1)\n",
    "    pos_df['TENURE'] = pos_df.groupby(changes.cumsum())['TENURE'].cumcount()\n",
    "\n",
    "    avg_metric_by_tier = pos_df.loc[:, [\"TIER\", \"METRIC\"]].groupby([\"TIER\"]).mean().reset_index()\n",
    "    avg_metric_by_tier_tenure = pos_df.loc[:, [\"TENURE\", \"TIER\", \"METRIC\"]].groupby([\"TENURE\", \"TIER\"]).mean().reset_index()\n",
    "\n",
    "    tenures = np.arange(0, 1000)\n",
    "    tiers = [\"A\", \"B\", \"C\", \"D\"]\n",
    "    avg_performance = pd.MultiIndex.from_product([tenures, tiers], names=[\"TENURE\", \"TIER\"])\n",
    "    avg_metric = np.mean(avg_metric_by_tier.values[:, 1])\n",
    "    avg_performance = pd.DataFrame(avg_metric, index=avg_performance, columns=[\"METRIC\"])\n",
    "    avg_performance = avg_performance.reset_index()\n",
    "\n",
    "    reward_notrade = avg_metric_by_tier_tenure.merge(avg_metric_by_tier, on=\"TIER\", how=\"left\")\n",
    "    reward_notrade['METRIC'] = reward_notrade['METRIC_x'].combine_first(reward_notrade['METRIC_y'])\n",
    "    reward_notrade = reward_notrade.drop(columns=['METRIC_x', 'METRIC_y'])\n",
    "\n",
    "    reward_notrade = reward_notrade.merge(avg_performance, on=[\"TENURE\", \"TIER\"], how=\"outer\")\n",
    "    reward_notrade = reward_notrade.sort_values(by=[\"TENURE\", \"TIER\"], ascending=True)\n",
    "    reward_notrade['METRIC'] = reward_notrade['METRIC_x'].combine_first(reward_notrade['METRIC_y'])\n",
    "    reward_notrade = reward_notrade.drop(columns=['METRIC_x', 'METRIC_y'])\n",
    "    return reward_notrade"
   ]
  },
  {
   "cell_type": "code",
   "execution_count": 205,
   "metadata": {},
   "outputs": [],
   "source": [
    "# generate rewards for each position if action is to not trade, adjust for salary, and save to csv\n",
    "\n",
    "for pos in positions:\n",
    "    reward_notrade = generate_notrade_reward(pos)\n",
    "    salary_info = get_avg_salary_by_pos_tier().reset_index()\n",
    "    salary_info = salary_info.loc[salary_info[\"position\"] == pos, :].loc[:, [\"TIER\", \"annual_salary\"]]\n",
    "    adj_metric_by_tier = reward_notrade.merge(salary_info)\n",
    "    SALARY_SCALING = (10)**(-8) # from tens of millions of dollars to a scale of 0-10\n",
    "    adj_metric_by_tier[\"ADJ_METRIC\"] = adj_metric_by_tier[\"METRIC\"] - SALARY_SCALING*adj_metric_by_tier[\"annual_salary\"]\n",
    "    adj_metric_by_tier_out = adj_metric_by_tier.sort_values([\"TENURE\", \"TIER\"]).reset_index(drop=True).loc[:, [\"TENURE\", \"TIER\", \"ADJ_METRIC\"]]\n",
    "    adj_metric_by_tier_out.to_csv(\"rewards/team/reward_notrade_{}.csv\".format(pos))"
   ]
  },
  {
   "cell_type": "code",
   "execution_count": 206,
   "metadata": {},
   "outputs": [],
   "source": [
    "# now to build the reward function for trading\n",
    "# the reward is the average performance of the player after the trade"
   ]
  },
  {
   "cell_type": "code",
   "execution_count": 207,
   "metadata": {},
   "outputs": [],
   "source": [
    "for pos in positions:\n",
    "    pos_df = position_dfs[pos]\n",
    "\n",
    "    pos_df[\"LAG_TEAM\"] = pos_df[\"TEAM_NAME\"].shift(1)\n",
    "    pos_df = pos_df.dropna()\n",
    "    traded = pos_df.loc[pos_df[\"TEAM_NAME\"] != pos_df[\"LAG_TEAM\"], [\"TIER\", \"METRIC\"]]\n",
    "    trade_reward = traded.groupby([\"TIER\"]).mean().reset_index()\n",
    "    trade_reward[\"METRIC\"] = -1*trade_reward[\"METRIC\"] #this is a cost (they no longer have this player)\n",
    "    trade_reward_out = trade_reward.sort_values([\"TIER\"], ascending=False).reset_index(drop=True)\n",
    "    trade_reward_out.to_csv(\"rewards/trade/reward_trade_{}.csv\".format(pos))"
   ]
  }
 ],
 "metadata": {
  "kernelspec": {
   "display_name": "nba",
   "language": "python",
   "name": "python3"
  },
  "language_info": {
   "codemirror_mode": {
    "name": "ipython",
    "version": 3
   },
   "file_extension": ".py",
   "mimetype": "text/x-python",
   "name": "python",
   "nbconvert_exporter": "python",
   "pygments_lexer": "ipython3",
   "version": "3.9.18"
  }
 },
 "nbformat": 4,
 "nbformat_minor": 2
}
