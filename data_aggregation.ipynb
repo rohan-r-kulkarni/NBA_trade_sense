{
 "cells": [
  {
   "cell_type": "code",
   "execution_count": null,
   "metadata": {},
   "outputs": [],
   "source": [
    "import numpy as np\n",
    "import pandas as pd\n",
    "from nba_api.stats.endpoints import playercareerstats, playergamelogs, gamerotation\n",
    "from nba_api.stats.static import players\n",
    "from collections import defaultdict"
   ]
  },
  {
   "cell_type": "code",
   "execution_count": null,
   "metadata": {},
   "outputs": [],
   "source": [
    "SAMPLE = False"
   ]
  },
  {
   "cell_type": "code",
   "execution_count": null,
   "metadata": {},
   "outputs": [],
   "source": [
    "salary = pd.read_csv(\"data/avg_player_salary.csv\", index_col=0)\n",
    "salary"
   ]
  },
  {
   "cell_type": "code",
   "execution_count": null,
   "metadata": {},
   "outputs": [],
   "source": [
    "all_players = players.get_active_players()\n",
    "def get_id_by_name(name):\n",
    "    for player in all_players:\n",
    "        if player[\"full_name\"] == name:\n",
    "            return player[\"id\"]"
   ]
  },
  {
   "cell_type": "code",
   "execution_count": null,
   "metadata": {},
   "outputs": [],
   "source": [
    "suffixes = np.array([\"0\" + suf if len(suf) == 1 else suf for suf in np.arange(14, 24).astype(str)])\n",
    "seasons = pd.Series(np.arange(2013, 2023)).astype(str) + \"-\" + pd.Series(suffixes)\n",
    "season_year = np.arange(2013, 2024)\n",
    "seasons.values, len(seasons)"
   ]
  },
  {
   "cell_type": "code",
   "execution_count": null,
   "metadata": {},
   "outputs": [],
   "source": [
    "basics = [\"PLAYER_NAME\", \"PLAYER_ID\", \"TEAM_NAME\", \"TEAM_ABBREVIATION\", \"GAME_DATE\", \"MATCHUP\"]\n",
    "stats = [\"FG3_PCT\", \"FG_PCT\", \"FT_PCT\", \"PTS_MIN\", \"AST_MIN\", \"REB_MIN\", \"STL_MIN\", \"BLK_MIN\", \"TOV_MIN\", \"PF_MIN\", \"PFD_MIN\"]"
   ]
  },
  {
   "cell_type": "code",
   "execution_count": null,
   "metadata": {},
   "outputs": [],
   "source": [
    "def apply_metric(row):\n",
    "    row[\"REB_MIN\"] = row[\"REB\"]/row[\"MIN\"]\n",
    "    row[\"AST_MIN\"] = row[\"AST\"]/row[\"MIN\"]\n",
    "    row[\"PTS_MIN\"] = row[\"PTS\"]/row[\"MIN\"]\n",
    "    row[\"TOV_MIN\"] = row[\"TOV\"]/row[\"MIN\"]\n",
    "    row[\"STL_MIN\"] = row[\"STL\"]/row[\"MIN\"]\n",
    "    row[\"BLK_MIN\"] = row[\"BLK\"]/row[\"MIN\"]\n",
    "    row[\"PF_MIN\"]= row[\"PF\"]/row[\"MIN\"]\n",
    "    row[\"PFD_MIN\"] = row[\"PFD\"]/row[\"MIN\"]\n",
    "\n",
    "    stats = [\"FG3_PCT\", \"FG_PCT\", \"FT_PCT\", \"PTS_MIN\", \"AST_MIN\", \"REB_MIN\", \"STL_MIN\", \"BLK_MIN\", \"TOV_MIN\", \"PF_MIN\", \"PFD_MIN\"]\n",
    "    weightings = [1, 1, 1, 1, 1, 1, 1, 1, -1, -1, -1] #negatively weight turnovers and fouls\n",
    "    return np.dot(row[stats], weightings)\n"
   ]
  },
  {
   "cell_type": "code",
   "execution_count": null,
   "metadata": {},
   "outputs": [],
   "source": [
    "def get_player_season_data(player_id, season):\n",
    "    games = playergamelogs.PlayerGameLogs(season_nullable = season) \n",
    "    df = games.get_data_frames()[0]\n",
    "    return df.loc[df.PLAYER_ID == player_id, :].iloc[::-1]\n",
    "\n",
    "def get_player_data(player_id):\n",
    "    dfs = []  # List to store DataFrames for each season\n",
    "    for season in seasons:\n",
    "        season_data = get_player_season_data(player_id, season)\n",
    "        dfs.append(season_data)\n",
    "    \n",
    "    # Use pd.concat to concatenate DataFrames along the rows (axis=0)\n",
    "    df = pd.concat(dfs, axis=0, ignore_index=True)\n",
    "    return df"
   ]
  },
  {
   "cell_type": "code",
   "execution_count": null,
   "metadata": {},
   "outputs": [],
   "source": [
    "position_by_name = salary.groupby(\"position\").value_counts().reset_index().loc[:, [\"position\", \"name\"]].set_index(\"position\")\n"
   ]
  },
  {
   "cell_type": "code",
   "execution_count": null,
   "metadata": {},
   "outputs": [],
   "source": [
    "position_by_name"
   ]
  },
  {
   "cell_type": "code",
   "execution_count": null,
   "metadata": {},
   "outputs": [],
   "source": [
    "most_popular_players = {\n",
    "    \"PG\": [\"Stephen Curry\", \"Damian Lillard\", \"Chris Paul\", \"Kyrie Irving\", \"Russell Westbrook\"],\n",
    "    \"SG\": [\"James Harden\", \"Bradley Beal\", \"Donovan Mitchell\", \"Zach LaVine\", \"Devin Booker\"],\n",
    "    \"SF\": [\"LeBron James\", \"Kevin Durant\", \"Kawhi Leonard\", \"Jayson Tatum\", \"Jimmy Butler\"],\n",
    "    \"PF\": [\"Giannis Antetokounmpo\", \"Anthony Davis\", \"Julius Randle\", \"Domantas Sabonis\", \"Zion Williamson\"],\n",
    "    \"C\": [\"Nikola Jokic\", \"Joel Embiid\", \"Rudy Gobert\", \"Karl-Anthony Towns\", \"Bam Adebayo\"]\n",
    "}"
   ]
  },
  {
   "cell_type": "code",
   "execution_count": null,
   "metadata": {},
   "outputs": [],
   "source": [
    "def get_sample_aggregate_by_position():\n",
    "    positions = [\"C\", \"PF\", \"SF\", \"SG\", \"PG\"]\n",
    "    position_dfs = defaultdict(list)\n",
    "    out = defaultdict()\n",
    "    for pos in positions:\n",
    "        players = most_popular_players[pos] #! small sample to make it faster\n",
    "        for player in players:\n",
    "            id = get_id_by_name(player)\n",
    "            player_data = get_player_data(id)\n",
    "            position_dfs[pos].append(player_data)\n",
    "            print(player)\n",
    "        print()\n",
    "        print(f\"REACHED CONCAT STAGE, {pos}\")\n",
    "        out[pos] = pd.concat(position_dfs[pos], axis=0, ignore_index=True)\n",
    "\n",
    "    return out\n",
    "\n",
    "def get_aggregate_by_position():\n",
    "    positions = [\"C\", \"PF\", \"SF\", \"SG\", \"PG\"]\n",
    "    position_dfs = defaultdict(list)\n",
    "    out = defaultdict()\n",
    "    for pos in positions:\n",
    "        players = position_by_name.loc[pos, \"name\"].tolist()\n",
    "        for player in players:\n",
    "            id = get_id_by_name(player)\n",
    "            player_data = get_player_data(id)\n",
    "            position_dfs[pos].append(player_data)\n",
    "            print(player)\n",
    "        print()\n",
    "        print(f\"REACHED CONCAT STAGE, {pos}\")\n",
    "        out[pos] = pd.concat(position_dfs[pos], axis=0, ignore_index=True)\n",
    "\n",
    "    return out"
   ]
  },
  {
   "cell_type": "code",
   "execution_count": null,
   "metadata": {},
   "outputs": [],
   "source": [
    "def compute_metric_and_save(aggr, sample):\n",
    "    basics = [\"PLAYER_NAME\", \"PLAYER_ID\", \"TEAM_NAME\", \"TEAM_ABBREVIATION\", \"GAME_DATE\", \"MATCHUP\"]\n",
    "    cols = np.append(np.array(basics), \"METRIC\")\n",
    "    if sample:\n",
    "        for pos in aggr.keys():\n",
    "            print(pos)\n",
    "            aggr[pos] = aggr[pos].loc[aggr[pos].MIN != 0, :]\n",
    "            aggr[pos][\"METRIC\"] = aggr[pos].apply(lambda x: apply_metric(x), axis=1)\n",
    "            pos_out = aggr[pos].loc[:, cols]\n",
    "            pos_out.to_csv(f\"data/sample_aggregate/{pos}_sample_aggregate.csv\")\n",
    "    else:\n",
    "        for pos in aggr.keys():\n",
    "            print(pos)\n",
    "            aggr[pos] = aggr[pos].loc[aggr[pos].MIN != 0, :]\n",
    "            aggr[pos][\"METRIC\"] = aggr[pos].apply(apply_metric, axis=1)\n",
    "            pos_out = aggr[pos].loc[:, cols]\n",
    "            pos_out.to_csv(f\"data/aggregate/{pos}_aggregate.csv\")"
   ]
  },
  {
   "cell_type": "code",
   "execution_count": null,
   "metadata": {},
   "outputs": [],
   "source": [
    "if SAMPLE:\n",
    "    sample_aggregate = get_sample_aggregate_by_position()\n",
    "    compute_metric_and_save(sample_aggregate, SAMPLE)\n",
    "else:\n",
    "    aggregate = get_aggregate_by_position()\n",
    "    compute_metric_and_save(aggregate, SAMPLE)"
   ]
  },
  {
   "cell_type": "code",
   "execution_count": null,
   "metadata": {},
   "outputs": [],
   "source": [
    "aggregate.keys()"
   ]
  },
  {
   "cell_type": "code",
   "execution_count": null,
   "metadata": {},
   "outputs": [],
   "source": [
    "#! check if save is done correctly\n",
    "df = pd.read_csv(\"data/aggregate/SG_aggregate.csv\", index_col=0)\n",
    "df.loc[df.PLAYER_NAME == \"James Harden\", :]"
   ]
  },
  {
   "cell_type": "code",
   "execution_count": null,
   "metadata": {},
   "outputs": [],
   "source": []
  }
 ],
 "metadata": {
  "kernelspec": {
   "display_name": "Python 3.9.18 ('nba')",
   "language": "python",
   "name": "python3"
  },
  "language_info": {
   "codemirror_mode": {
    "name": "ipython",
    "version": 3
   },
   "file_extension": ".py",
   "mimetype": "text/x-python",
   "name": "python",
   "nbconvert_exporter": "python",
   "pygments_lexer": "ipython3",
   "version": "3.9.18"
  },
  "orig_nbformat": 4,
  "vscode": {
   "interpreter": {
    "hash": "43f6c9eaff843a9edab95ed9e033ec8a54cea5e595216fe2347b347eb98cc675"
   }
  }
 },
 "nbformat": 4,
 "nbformat_minor": 2
}
